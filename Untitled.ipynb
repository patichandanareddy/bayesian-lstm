{
 "cells": [
  {
   "cell_type": "code",
   "execution_count": null,
   "id": "6ab26ce2-5f09-4e3d-b65f-d9189ed17279",
   "metadata": {},
   "outputs": [],
   "source": []
  }
 ],
 "metadata": {
  "kernelspec": {
   "display_name": "",
   "name": ""
  },
  "language_info": {
   "name": ""
  }
 },
 "nbformat": 4,
 "nbformat_minor": 5
}
