{
 "cells": [
  {
   "cell_type": "markdown",
   "id": "ef1e6cf0",
   "metadata": {},
   "source": [
    "# 📊 03 - Comparison of Bayesian LSTM, Standard LSTM, and Prophet"
   ]
  },
  {
   "cell_type": "markdown",
   "id": "6203a04e",
   "metadata": {},
   "source": [
    "\n",
    "In this notebook, we compare the performance of:\n",
    "- Bayesian LSTM (with Monte Carlo Dropout)\n",
    "- Standard LSTM (no dropout at test time)\n",
    "- Prophet (additive model from Facebook)\n",
    "\n",
    "The comparison includes:\n",
    "- Forecast accuracy (RMSE, MAE)\n",
    "- Confidence intervals (where available)\n",
    "- Inference speed\n"
   ]
  },
  {
   "cell_type": "code",
   "execution_count": 5,
   "id": "fb5434ca",
   "metadata": {},
   "outputs": [
    {
     "name": "stdout",
     "output_type": "stream",
     "text": [
      "Collecting git+https://gitlab2.tamucc.edu/cpati/bayesian-lstm.git\n",
      "  Cloning https://gitlab2.tamucc.edu/cpati/bayesian-lstm.git to c:\\users\\hp\\appdata\\local\\temp\\pip-req-build-e6b31cl3\n",
      "  Resolved https://gitlab2.tamucc.edu/cpati/bayesian-lstm.git to commit 5f1c8825007f150e46bc0095b42cab1fec125c2a\n",
      "  Installing build dependencies: started\n",
      "  Installing build dependencies: finished with status 'done'\n",
      "  Getting requirements to build wheel: started\n",
      "  Getting requirements to build wheel: finished with status 'done'\n",
      "  Preparing metadata (pyproject.toml): started\n",
      "  Preparing metadata (pyproject.toml): finished with status 'done'\n",
      "Requirement already satisfied: torch in c:\\users\\hp\\appdata\\local\\programs\\python\\python313\\lib\\site-packages (from bayeslstm==0.1) (2.6.0)\n",
      "Requirement already satisfied: numpy in c:\\users\\hp\\appdata\\local\\programs\\python\\python313\\lib\\site-packages (from bayeslstm==0.1) (2.2.4)\n",
      "Requirement already satisfied: matplotlib in c:\\users\\hp\\appdata\\local\\programs\\python\\python313\\lib\\site-packages (from bayeslstm==0.1) (3.10.1)\n",
      "Requirement already satisfied: pandas in c:\\users\\hp\\appdata\\local\\programs\\python\\python313\\lib\\site-packages (from bayeslstm==0.1) (2.2.3)\n",
      "Requirement already satisfied: scikit-learn in c:\\users\\hp\\appdata\\local\\programs\\python\\python313\\lib\\site-packages (from bayeslstm==0.1) (1.6.1)\n",
      "Requirement already satisfied: contourpy>=1.0.1 in c:\\users\\hp\\appdata\\local\\programs\\python\\python313\\lib\\site-packages (from matplotlib->bayeslstm==0.1) (1.3.1)\n",
      "Requirement already satisfied: cycler>=0.10 in c:\\users\\hp\\appdata\\local\\programs\\python\\python313\\lib\\site-packages (from matplotlib->bayeslstm==0.1) (0.12.1)\n",
      "Requirement already satisfied: fonttools>=4.22.0 in c:\\users\\hp\\appdata\\local\\programs\\python\\python313\\lib\\site-packages (from matplotlib->bayeslstm==0.1) (4.57.0)\n",
      "Requirement already satisfied: kiwisolver>=1.3.1 in c:\\users\\hp\\appdata\\local\\programs\\python\\python313\\lib\\site-packages (from matplotlib->bayeslstm==0.1) (1.4.8)\n",
      "Requirement already satisfied: packaging>=20.0 in c:\\users\\hp\\appdata\\local\\programs\\python\\python313\\lib\\site-packages (from matplotlib->bayeslstm==0.1) (24.2)\n",
      "Requirement already satisfied: pillow>=8 in c:\\users\\hp\\appdata\\local\\programs\\python\\python313\\lib\\site-packages (from matplotlib->bayeslstm==0.1) (11.1.0)\n",
      "Requirement already satisfied: pyparsing>=2.3.1 in c:\\users\\hp\\appdata\\local\\programs\\python\\python313\\lib\\site-packages (from matplotlib->bayeslstm==0.1) (3.2.3)\n",
      "Requirement already satisfied: python-dateutil>=2.7 in c:\\users\\hp\\appdata\\local\\programs\\python\\python313\\lib\\site-packages (from matplotlib->bayeslstm==0.1) (2.9.0.post0)\n",
      "Requirement already satisfied: pytz>=2020.1 in c:\\users\\hp\\appdata\\local\\programs\\python\\python313\\lib\\site-packages (from pandas->bayeslstm==0.1) (2025.2)\n",
      "Requirement already satisfied: tzdata>=2022.7 in c:\\users\\hp\\appdata\\local\\programs\\python\\python313\\lib\\site-packages (from pandas->bayeslstm==0.1) (2025.2)\n",
      "Requirement already satisfied: scipy>=1.6.0 in c:\\users\\hp\\appdata\\local\\programs\\python\\python313\\lib\\site-packages (from scikit-learn->bayeslstm==0.1) (1.15.2)\n",
      "Requirement already satisfied: joblib>=1.2.0 in c:\\users\\hp\\appdata\\local\\programs\\python\\python313\\lib\\site-packages (from scikit-learn->bayeslstm==0.1) (1.4.2)\n",
      "Requirement already satisfied: threadpoolctl>=3.1.0 in c:\\users\\hp\\appdata\\local\\programs\\python\\python313\\lib\\site-packages (from scikit-learn->bayeslstm==0.1) (3.6.0)\n",
      "Requirement already satisfied: filelock in c:\\users\\hp\\appdata\\local\\programs\\python\\python313\\lib\\site-packages (from torch->bayeslstm==0.1) (3.18.0)\n",
      "Requirement already satisfied: typing-extensions>=4.10.0 in c:\\users\\hp\\appdata\\local\\programs\\python\\python313\\lib\\site-packages (from torch->bayeslstm==0.1) (4.13.1)\n",
      "Requirement already satisfied: networkx in c:\\users\\hp\\appdata\\local\\programs\\python\\python313\\lib\\site-packages (from torch->bayeslstm==0.1) (3.4.2)\n",
      "Requirement already satisfied: jinja2 in c:\\users\\hp\\appdata\\local\\programs\\python\\python313\\lib\\site-packages (from torch->bayeslstm==0.1) (3.1.6)\n",
      "Requirement already satisfied: fsspec in c:\\users\\hp\\appdata\\local\\programs\\python\\python313\\lib\\site-packages (from torch->bayeslstm==0.1) (2025.3.2)\n",
      "Requirement already satisfied: setuptools in c:\\users\\hp\\appdata\\local\\programs\\python\\python313\\lib\\site-packages (from torch->bayeslstm==0.1) (78.1.0)\n",
      "Requirement already satisfied: sympy==1.13.1 in c:\\users\\hp\\appdata\\local\\programs\\python\\python313\\lib\\site-packages (from torch->bayeslstm==0.1) (1.13.1)\n",
      "Requirement already satisfied: mpmath<1.4,>=1.1.0 in c:\\users\\hp\\appdata\\local\\programs\\python\\python313\\lib\\site-packages (from sympy==1.13.1->torch->bayeslstm==0.1) (1.3.0)\n",
      "Requirement already satisfied: six>=1.5 in c:\\users\\hp\\appdata\\local\\programs\\python\\python313\\lib\\site-packages (from python-dateutil>=2.7->matplotlib->bayeslstm==0.1) (1.17.0)\n",
      "Requirement already satisfied: MarkupSafe>=2.0 in c:\\users\\hp\\appdata\\local\\programs\\python\\python313\\lib\\site-packages (from jinja2->torch->bayeslstm==0.1) (3.0.2)\n"
     ]
    },
    {
     "name": "stderr",
     "output_type": "stream",
     "text": [
      "  Running command git clone --filter=blob:none --quiet https://gitlab2.tamucc.edu/cpati/bayesian-lstm.git 'C:\\Users\\Hp\\AppData\\Local\\Temp\\pip-req-build-e6b31cl3'\n",
      "\n",
      "[notice] A new release of pip is available: 24.3.1 -> 25.1.1\n",
      "[notice] To update, run: python.exe -m pip install --upgrade pip\n"
     ]
    }
   ],
   "source": [
    "import pandas as pd\n",
    "import numpy as np\n",
    "import matplotlib.pyplot as plt\n",
    "import torch\n",
    "from sklearn.metrics import mean_squared_error, mean_absolute_error\n",
    "from sklearn.preprocessing import MinMaxScaler\n",
    "!pip install git+https://gitlab2.tamucc.edu/cpati/bayesian-lstm.git\n",
    "from bayeslstm import BayesianLSTM, vectorized_mc_dropout_predict"
   ]
  },
  {
   "cell_type": "code",
   "execution_count": 6,
   "id": "40cfc786",
   "metadata": {},
   "outputs": [],
   "source": [
    "# Load Melbourne temperature data\n",
    "url = \"https://raw.githubusercontent.com/jbrownlee/Datasets/master/daily-min-temperatures.csv\"\n",
    "df = pd.read_csv(url, parse_dates=['Date'])\n",
    "df.columns = ['ds', 'y']\n",
    "scaler = MinMaxScaler()\n",
    "df['scaled'] = scaler.fit_transform(df[['y']])\n",
    "\n",
    "# Create sequences for LSTM\n",
    "def create_sequences(data, seq_len=30):\n",
    "    X, y = [], []\n",
    "    for i in range(len(data) - seq_len):\n",
    "        X.append(data[i:i+seq_len])\n",
    "        y.append(data[i+seq_len])\n",
    "    return np.array(X), np.array(y)\n",
    "\n",
    "X, y = create_sequences(df['scaled'].values)\n",
    "X_tensor = torch.tensor(X, dtype=torch.float32).unsqueeze(-1)\n",
    "y_tensor = torch.tensor(y, dtype=torch.float32).unsqueeze(-1)\n",
    "\n",
    "train_X, test_X = X_tensor[:3000], X_tensor[3000:]\n",
    "train_y, test_y = y_tensor[:3000], y_tensor[3000:]\n"
   ]
  },
  {
   "cell_type": "code",
   "execution_count": 7,
   "id": "5f8f2a25",
   "metadata": {},
   "outputs": [],
   "source": [
    "class StandardLSTM(torch.nn.Module):\n",
    "    def __init__(self, input_size, hidden_size, output_size):\n",
    "        super(StandardLSTM, self).__init__()\n",
    "        self.lstm = torch.nn.LSTM(input_size, hidden_size, batch_first=True)\n",
    "        self.fc = torch.nn.Linear(hidden_size, output_size)\n",
    "\n",
    "    def forward(self, x):\n",
    "        out, _ = self.lstm(x)\n",
    "        return self.fc(out[:, -1, :])\n",
    "\n",
    "std_model = StandardLSTM(1, 64, 1)\n",
    "optimizer = torch.optim.Adam(std_model.parameters(), lr=0.005)\n",
    "loss_fn = torch.nn.MSELoss()\n",
    "\n",
    "std_model.train()\n",
    "for epoch in range(20):\n",
    "    idx = torch.randperm(train_X.shape[0])\n",
    "    for i in range(0, len(train_X), 64):\n",
    "        xb = train_X[idx[i:i+64]]\n",
    "        yb = train_y[idx[i:i+64]]\n",
    "        optimizer.zero_grad()\n",
    "        pred = std_model(xb)\n",
    "        loss = loss_fn(pred, yb)\n",
    "        loss.backward()\n",
    "        optimizer.step()\n"
   ]
  },
  {
   "cell_type": "code",
   "execution_count": 8,
   "id": "9f8ff0ff",
   "metadata": {},
   "outputs": [],
   "source": [
    "bayes_model = BayesianLSTM(1, 64, 1, dropout_rate=0.3)\n",
    "optimizer = torch.optim.Adam(bayes_model.parameters(), lr=0.005)\n",
    "bayes_model.train()\n",
    "for epoch in range(20):\n",
    "    idx = torch.randperm(train_X.shape[0])\n",
    "    for i in range(0, len(train_X), 64):\n",
    "        xb = train_X[idx[i:i+64]]\n",
    "        yb = train_y[idx[i:i+64]]\n",
    "        optimizer.zero_grad()\n",
    "        pred = bayes_model(xb)\n",
    "        loss = loss_fn(pred, yb)\n",
    "        loss.backward()\n",
    "        optimizer.step()\n"
   ]
  },
  {
   "cell_type": "code",
   "execution_count": 10,
   "id": "3dd92b79-36ba-4fee-9691-3026fcd2b09f",
   "metadata": {},
   "outputs": [
    {
     "name": "stdout",
     "output_type": "stream",
     "text": [
      "Collecting prophet\n",
      "  Downloading prophet-1.1.6-py3-none-win_amd64.whl.metadata (3.6 kB)\n",
      "Collecting cmdstanpy>=1.0.4 (from prophet)\n",
      "  Downloading cmdstanpy-1.2.5-py3-none-any.whl.metadata (4.0 kB)\n",
      "Requirement already satisfied: numpy>=1.15.4 in c:\\users\\hp\\appdata\\local\\programs\\python\\python313\\lib\\site-packages (from prophet) (2.2.4)\n",
      "Requirement already satisfied: matplotlib>=2.0.0 in c:\\users\\hp\\appdata\\local\\programs\\python\\python313\\lib\\site-packages (from prophet) (3.10.1)\n",
      "Requirement already satisfied: pandas>=1.0.4 in c:\\users\\hp\\appdata\\local\\programs\\python\\python313\\lib\\site-packages (from prophet) (2.2.3)\n",
      "Collecting holidays<1,>=0.25 (from prophet)\n",
      "  Downloading holidays-0.72-py3-none-any.whl.metadata (37 kB)\n",
      "Requirement already satisfied: tqdm>=4.36.1 in c:\\users\\hp\\appdata\\local\\programs\\python\\python313\\lib\\site-packages (from prophet) (4.67.1)\n",
      "Collecting importlib-resources (from prophet)\n",
      "  Downloading importlib_resources-6.5.2-py3-none-any.whl.metadata (3.9 kB)\n",
      "Collecting stanio<2.0.0,>=0.4.0 (from cmdstanpy>=1.0.4->prophet)\n",
      "  Downloading stanio-0.5.1-py3-none-any.whl.metadata (1.6 kB)\n",
      "Requirement already satisfied: python-dateutil in c:\\users\\hp\\appdata\\local\\programs\\python\\python313\\lib\\site-packages (from holidays<1,>=0.25->prophet) (2.9.0.post0)\n",
      "Requirement already satisfied: contourpy>=1.0.1 in c:\\users\\hp\\appdata\\local\\programs\\python\\python313\\lib\\site-packages (from matplotlib>=2.0.0->prophet) (1.3.1)\n",
      "Requirement already satisfied: cycler>=0.10 in c:\\users\\hp\\appdata\\local\\programs\\python\\python313\\lib\\site-packages (from matplotlib>=2.0.0->prophet) (0.12.1)\n",
      "Requirement already satisfied: fonttools>=4.22.0 in c:\\users\\hp\\appdata\\local\\programs\\python\\python313\\lib\\site-packages (from matplotlib>=2.0.0->prophet) (4.57.0)\n",
      "Requirement already satisfied: kiwisolver>=1.3.1 in c:\\users\\hp\\appdata\\local\\programs\\python\\python313\\lib\\site-packages (from matplotlib>=2.0.0->prophet) (1.4.8)\n",
      "Requirement already satisfied: packaging>=20.0 in c:\\users\\hp\\appdata\\local\\programs\\python\\python313\\lib\\site-packages (from matplotlib>=2.0.0->prophet) (24.2)\n",
      "Requirement already satisfied: pillow>=8 in c:\\users\\hp\\appdata\\local\\programs\\python\\python313\\lib\\site-packages (from matplotlib>=2.0.0->prophet) (11.1.0)\n",
      "Requirement already satisfied: pyparsing>=2.3.1 in c:\\users\\hp\\appdata\\local\\programs\\python\\python313\\lib\\site-packages (from matplotlib>=2.0.0->prophet) (3.2.3)\n",
      "Requirement already satisfied: pytz>=2020.1 in c:\\users\\hp\\appdata\\local\\programs\\python\\python313\\lib\\site-packages (from pandas>=1.0.4->prophet) (2025.2)\n",
      "Requirement already satisfied: tzdata>=2022.7 in c:\\users\\hp\\appdata\\local\\programs\\python\\python313\\lib\\site-packages (from pandas>=1.0.4->prophet) (2025.2)\n",
      "Requirement already satisfied: colorama in c:\\users\\hp\\appdata\\local\\programs\\python\\python313\\lib\\site-packages (from tqdm>=4.36.1->prophet) (0.4.6)\n",
      "Requirement already satisfied: six>=1.5 in c:\\users\\hp\\appdata\\local\\programs\\python\\python313\\lib\\site-packages (from python-dateutil->holidays<1,>=0.25->prophet) (1.17.0)\n",
      "Downloading prophet-1.1.6-py3-none-win_amd64.whl (13.3 MB)\n",
      "   ---------------------------------------- 0.0/13.3 MB ? eta -:--:--\n",
      "   --------- ------------------------------ 3.1/13.3 MB 22.3 MB/s eta 0:00:01\n",
      "   -------------------------------- ------- 10.7/13.3 MB 30.5 MB/s eta 0:00:01\n",
      "   ---------------------------------------- 13.3/13.3 MB 29.5 MB/s eta 0:00:00\n",
      "Downloading cmdstanpy-1.2.5-py3-none-any.whl (94 kB)\n",
      "Downloading holidays-0.72-py3-none-any.whl (932 kB)\n",
      "   ---------------------------------------- 0.0/932.3 kB ? eta -:--:--\n",
      "   --------------------------------------- 932.3/932.3 kB 35.6 MB/s eta 0:00:00\n",
      "Downloading importlib_resources-6.5.2-py3-none-any.whl (37 kB)\n",
      "Downloading stanio-0.5.1-py3-none-any.whl (8.1 kB)\n",
      "Installing collected packages: stanio, importlib-resources, holidays, cmdstanpy, prophet\n",
      "Successfully installed cmdstanpy-1.2.5 holidays-0.72 importlib-resources-6.5.2 prophet-1.1.6 stanio-0.5.1\n"
     ]
    },
    {
     "name": "stderr",
     "output_type": "stream",
     "text": [
      "\n",
      "[notice] A new release of pip is available: 24.3.1 -> 25.1.1\n",
      "[notice] To update, run: python.exe -m pip install --upgrade pip\n"
     ]
    }
   ],
   "source": [
    "!pip install prophet"
   ]
  },
  {
   "cell_type": "code",
   "execution_count": 12,
   "id": "6f5a4d5d",
   "metadata": {},
   "outputs": [
    {
     "name": "stderr",
     "output_type": "stream",
     "text": [
      "C:\\Users\\Hp\\AppData\\Local\\Programs\\Python\\Python313\\Lib\\site-packages\\tqdm\\auto.py:21: TqdmWarning: IProgress not found. Please update jupyter and ipywidgets. See https://ipywidgets.readthedocs.io/en/stable/user_install.html\n",
      "  from .autonotebook import tqdm as notebook_tqdm\n",
      "Importing plotly failed. Interactive plots will not work.\n",
      "13:13:59 - cmdstanpy - INFO - Chain [1] start processing\n",
      "13:14:00 - cmdstanpy - INFO - Chain [1] done processing\n"
     ]
    }
   ],
   "source": [
    "# Prepare data for Prophet\n",
    "from prophet import Prophet\n",
    "prophet_df = df[['ds', 'y']].iloc[:(3000+len(test_X))]\n",
    "train_prophet = prophet_df.iloc[:3000]\n",
    "\n",
    "model_prophet = Prophet()\n",
    "model_prophet.fit(train_prophet)\n",
    "\n",
    "future = model_prophet.make_future_dataframe(periods=len(test_X))\n",
    "forecast = model_prophet.predict(future)\n",
    "yhat_prophet = forecast['yhat'].iloc[3000:].values\n"
   ]
  },
  {
   "cell_type": "code",
   "execution_count": 13,
   "id": "d1b53ff9",
   "metadata": {},
   "outputs": [
    {
     "name": "stdout",
     "output_type": "stream",
     "text": [
      "Standard LSTM → RMSE: 2.2119, MAE: 1.7341\n",
      "Bayesian LSTM → RMSE: 2.2601, MAE: 1.7731\n",
      "Prophet → RMSE: 3.2295, MAE: 2.5185\n"
     ]
    }
   ],
   "source": [
    "# Standard LSTM predictions\n",
    "std_model.eval()\n",
    "with torch.no_grad():\n",
    "    std_preds = std_model(test_X).numpy()\n",
    "std_preds_inv = scaler.inverse_transform(std_preds)\n",
    "test_y_inv = scaler.inverse_transform(test_y.numpy())\n",
    "\n",
    "# Bayesian LSTM predictions\n",
    "bayes_model.eval()\n",
    "mean_preds, _ = vectorized_mc_dropout_predict(bayes_model, test_X, T=100)\n",
    "mean_preds_inv = scaler.inverse_transform(mean_preds)\n",
    "\n",
    "# Prophet\n",
    "prophet_inv = yhat_prophet.reshape(-1, 1)\n",
    "\n",
    "# Metrics\n",
    "def evaluate(y_true, y_pred, model_name):\n",
    "    rmse = np.sqrt(mean_squared_error(y_true, y_pred))\n",
    "    mae = mean_absolute_error(y_true, y_pred)\n",
    "    print(f\"{model_name} → RMSE: {rmse:.4f}, MAE: {mae:.4f}\")\n",
    "\n",
    "evaluate(test_y_inv, std_preds_inv, \"Standard LSTM\")\n",
    "evaluate(test_y_inv, mean_preds_inv, \"Bayesian LSTM\")\n",
    "evaluate(test_y_inv, prophet_inv, \"Prophet\")\n"
   ]
  },
  {
   "cell_type": "code",
   "execution_count": null,
   "id": "7a0931ae-15d2-4687-b56f-ce82d80f3110",
   "metadata": {},
   "outputs": [],
   "source": []
  }
 ],
 "metadata": {
  "kernelspec": {
   "display_name": "Python 3 (ipykernel)",
   "language": "python",
   "name": "python3"
  },
  "language_info": {
   "codemirror_mode": {
    "name": "ipython",
    "version": 3
   },
   "file_extension": ".py",
   "mimetype": "text/x-python",
   "name": "python",
   "nbconvert_exporter": "python",
   "pygments_lexer": "ipython3",
   "version": "3.13.2"
  }
 },
 "nbformat": 4,
 "nbformat_minor": 5
}
